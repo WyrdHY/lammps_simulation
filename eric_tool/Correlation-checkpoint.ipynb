{
 "cells": [
  {
   "cell_type": "code",
   "execution_count": 102,
   "id": "b4188e07",
   "metadata": {},
   "outputs": [],
   "source": [
    "import pandas as pd\n",
    "import numpy as np\n",
    "from tqdm import tqdm"
   ]
  },
  {
   "cell_type": "code",
   "execution_count": 3,
   "id": "f1e8fde4",
   "metadata": {},
   "outputs": [],
   "source": [
    "##\n",
    "#This file aims to read the dump.lummps data to load the \n",
    "#positions of different atoms at different t\n",
    "#at each time t, i can have a table telling me the 3D location of each atom\n",
    "##\n",
    "#After that, I will calculate the distance correlation defined as\n",
    "#for x= Si, y=O\n",
    "#for x= Si, y = Si\n",
    "#for x= O, y = O"
   ]
  },
  {
   "cell_type": "markdown",
   "id": "9f61232f",
   "metadata": {},
   "source": [
    "$$\n",
    "\\sum_i \\sum_j x_i y_j\n",
    "$$\n"
   ]
  },
  {
   "cell_type": "code",
   "execution_count": 5,
   "id": "d60206c8",
   "metadata": {},
   "outputs": [],
   "source": [
    "#Current position data are obtained using an absolute reference frame\n",
    "#instead of a relateive body frame"
   ]
  },
  {
   "cell_type": "markdown",
   "id": "9d22c22f",
   "metadata": {},
   "source": [
    "#This is simply importing all of the \n",
    "#infomation as a table, same as \n",
    "#the one you see when you open the .lammpstr file\n",
    "def read_lammps_data(filename):\n",
    "    data = []  # to store the data temporarily\n",
    "    current_timestep = None\n",
    "    \n",
    "    with open(filename, 'r') as file:\n",
    "        for line in file:\n",
    "            line = line.strip()\n",
    "            if 'Timestep:' in line:\n",
    "                current_timestep = int(line.split()[-1])  # extract timestep\n",
    "            elif line.isdigit():\n",
    "                continue  # this is just the number of atoms, skip it\n",
    "            else:\n",
    "                parts = line.split()\n",
    "                if len(parts) == 4:  # make sure it's the right format\n",
    "                    atom_type = int(parts[0])\n",
    "                    x, y, z = map(float, parts[1:])\n",
    "                    data.append([current_timestep, atom_type, x, y, z])\n",
    "    \n",
    "    # Create a DataFrame\n",
    "    columns = ['Timestep', 'Atom Type', 'x', 'y', 'z']\n",
    "    df = pd.DataFrame(data, columns=columns)\n",
    "    return df"
   ]
  },
  {
   "cell_type": "markdown",
   "id": "d7d3befe",
   "metadata": {},
   "source": [
    "#The data I will read\n",
    "filename = r'C:\\Users\\Eric\\Desktop\\Yb Simulation\\Zihagn_good_tool\\Classical_MD_coord_visual\\dump.lammpstrj'\n",
    "df = read_lammps_data(filename)\n",
    "print(df.head())  # show the first few rows"
   ]
  },
  {
   "cell_type": "code",
   "execution_count": 66,
   "id": "9740c290",
   "metadata": {},
   "outputs": [],
   "source": [
    "#This uses diction to store the data\n",
    "#at each time, there is a table describing the \n",
    "#3D location of each atom\n",
    "def read_lammps_data_partitioned(filename):\n",
    "    timestep_data = {}  # Dictionary to store data by timestep\n",
    "    current_timestep = None\n",
    "    \n",
    "    with open(filename, 'r') as file:\n",
    "        for line in file:\n",
    "            line = line.strip()\n",
    "            if 'Timestep:' in line:\n",
    "                current_timestep = int(line.split()[-1])  # extract timestep\n",
    "                timestep_data[current_timestep] = []  # Initialize an empty list for this timestep\n",
    "            elif line.isdigit():\n",
    "                continue  # this is just the number of atoms, skip it\n",
    "            else:\n",
    "                parts = line.split()\n",
    "                if len(parts) == 4:  # make sure it's the right format\n",
    "                    atom_type = int(parts[0])\n",
    "                    x, y, z = map(float, parts[1:])\n",
    "                    timestep_data[current_timestep].append([atom_type, x, y, z])\n",
    "    \n",
    "    # Convert lists to DataFrames\n",
    "    for timestep, data in timestep_data.items():\n",
    "        columns = ['Atom Type', 'x', 'y', 'z']\n",
    "        timestep_data[timestep] = pd.DataFrame(data, columns=columns)\n",
    "    \n",
    "    return timestep_data"
   ]
  },
  {
   "cell_type": "code",
   "execution_count": 67,
   "id": "2f0f5c79",
   "metadata": {},
   "outputs": [
    {
     "name": "stdout",
     "output_type": "stream",
     "text": [
      "   Timestep  Atom Type        x        y         z\n",
      "0         0          2  0.00000  7.95642   4.74695\n",
      "1         0          2  4.63304  0.00000  11.35800\n",
      "2         0          2  0.00000  4.63304   4.74695\n",
      "3         0          2  7.95642  0.00000  11.35800\n",
      "4         0          2  0.00000  4.63304   8.47514\n"
     ]
    }
   ],
   "source": [
    "#The data I will read\n",
    "filename = r'C:\\Users\\Eric\\Desktop\\Yb Simulation\\Zihagn_good_tool\\Classical_MD_coord_visual\\dump.lammpstrj'\n",
    "df = read_lammps_data(filename)\n",
    "print(df.head())  # show the first few rows"
   ]
  },
  {
   "cell_type": "code",
   "execution_count": 68,
   "id": "45534a41",
   "metadata": {},
   "outputs": [],
   "source": [
    "#This is to read the data as dictionary\n",
    "filename = r'C:\\Users\\Eric\\Desktop\\Yb Simulation\\Zihagn_good_tool\\Classical_MD_coord_visual\\dump.lammpstrj'\n",
    "timestep_tables = read_lammps_data_partitioned(filename)"
   ]
  },
  {
   "cell_type": "code",
   "execution_count": 43,
   "id": "42a4839a",
   "metadata": {
    "collapsed": true
   },
   "outputs": [
    {
     "data": {
      "text/html": [
       "<div>\n",
       "<style scoped>\n",
       "    .dataframe tbody tr th:only-of-type {\n",
       "        vertical-align: middle;\n",
       "    }\n",
       "\n",
       "    .dataframe tbody tr th {\n",
       "        vertical-align: top;\n",
       "    }\n",
       "\n",
       "    .dataframe thead th {\n",
       "        text-align: right;\n",
       "    }\n",
       "</style>\n",
       "<table border=\"1\" class=\"dataframe\">\n",
       "  <thead>\n",
       "    <tr style=\"text-align: right;\">\n",
       "      <th></th>\n",
       "      <th>Atom Type</th>\n",
       "      <th>x</th>\n",
       "      <th>y</th>\n",
       "      <th>z</th>\n",
       "    </tr>\n",
       "  </thead>\n",
       "  <tbody>\n",
       "    <tr>\n",
       "      <th>0</th>\n",
       "      <td>2</td>\n",
       "      <td>-0.209150</td>\n",
       "      <td>8.306060</td>\n",
       "      <td>4.99552</td>\n",
       "    </tr>\n",
       "    <tr>\n",
       "      <th>1</th>\n",
       "      <td>2</td>\n",
       "      <td>5.161440</td>\n",
       "      <td>12.442800</td>\n",
       "      <td>11.21160</td>\n",
       "    </tr>\n",
       "    <tr>\n",
       "      <th>2</th>\n",
       "      <td>2</td>\n",
       "      <td>12.384600</td>\n",
       "      <td>5.064870</td>\n",
       "      <td>4.91384</td>\n",
       "    </tr>\n",
       "    <tr>\n",
       "      <th>3</th>\n",
       "      <td>2</td>\n",
       "      <td>8.598060</td>\n",
       "      <td>-0.154925</td>\n",
       "      <td>12.16890</td>\n",
       "    </tr>\n",
       "    <tr>\n",
       "      <th>4</th>\n",
       "      <td>2</td>\n",
       "      <td>12.556400</td>\n",
       "      <td>4.287980</td>\n",
       "      <td>8.39599</td>\n",
       "    </tr>\n",
       "    <tr>\n",
       "      <th>...</th>\n",
       "      <td>...</td>\n",
       "      <td>...</td>\n",
       "      <td>...</td>\n",
       "      <td>...</td>\n",
       "    </tr>\n",
       "    <tr>\n",
       "      <th>91</th>\n",
       "      <td>1</td>\n",
       "      <td>1.051900</td>\n",
       "      <td>12.536800</td>\n",
       "      <td>8.36250</td>\n",
       "    </tr>\n",
       "    <tr>\n",
       "      <th>92</th>\n",
       "      <td>1</td>\n",
       "      <td>-0.011418</td>\n",
       "      <td>10.444200</td>\n",
       "      <td>11.98370</td>\n",
       "    </tr>\n",
       "    <tr>\n",
       "      <th>93</th>\n",
       "      <td>1</td>\n",
       "      <td>1.296280</td>\n",
       "      <td>12.269100</td>\n",
       "      <td>5.33324</td>\n",
       "    </tr>\n",
       "    <tr>\n",
       "      <th>94</th>\n",
       "      <td>1</td>\n",
       "      <td>0.019112</td>\n",
       "      <td>1.029580</td>\n",
       "      <td>12.01290</td>\n",
       "    </tr>\n",
       "    <tr>\n",
       "      <th>95</th>\n",
       "      <td>1</td>\n",
       "      <td>11.072700</td>\n",
       "      <td>0.046414</td>\n",
       "      <td>4.74221</td>\n",
       "    </tr>\n",
       "  </tbody>\n",
       "</table>\n",
       "<p>96 rows × 4 columns</p>\n",
       "</div>"
      ],
      "text/plain": [
       "    Atom Type          x          y         z\n",
       "0           2  -0.209150   8.306060   4.99552\n",
       "1           2   5.161440  12.442800  11.21160\n",
       "2           2  12.384600   5.064870   4.91384\n",
       "3           2   8.598060  -0.154925  12.16890\n",
       "4           2  12.556400   4.287980   8.39599\n",
       "..        ...        ...        ...       ...\n",
       "91          1   1.051900  12.536800   8.36250\n",
       "92          1  -0.011418  10.444200  11.98370\n",
       "93          1   1.296280  12.269100   5.33324\n",
       "94          1   0.019112   1.029580  12.01290\n",
       "95          1  11.072700   0.046414   4.74221\n",
       "\n",
       "[96 rows x 4 columns]"
      ]
     },
     "execution_count": 43,
     "metadata": {},
     "output_type": "execute_result"
    }
   ],
   "source": [
    "timestep_tables[3000]"
   ]
  },
  {
   "cell_type": "code",
   "execution_count": 96,
   "id": "62dd8378",
   "metadata": {},
   "outputs": [],
   "source": [
    "class correlate:\n",
    "    def __init__(self,dick):\n",
    "        self.diction = dick\n",
    "        keys_list = list(self.diction.keys())\n",
    "        stepsize = np.abs(keys_list[0]-keys_list[1])\n",
    "        print(f\"Initialized successfully. Use x.run(atom, atom, time) to get correlation.\\n\"\n",
    "      f\"atom = 1 means Si. atom = 0 means O.\\n\"\n",
    "      f\"Available time steps range from: {keys_list[0]} to {keys_list[-1]}, stepsize: {stepsize}\")\n",
    "\n",
    "    def run(self,fucker1,fucker2,time):\n",
    "        #fucker means the type of atoms\n",
    "        # 1 means Si\n",
    "        # 2 means o\n",
    "        hibertsapce = self.diction[time]\n",
    "        fuckerspace1 = hibertsapce[hibertsapce['Atom Type'] == fucker1]\n",
    "        fuckerspace2 = hibertsapce[hibertsapce['Atom Type'] == fucker2]\n",
    "        result = 0 \n",
    "        #calculate the sum: Sum_{i,j} x_i * x_j\n",
    "        for i in range(fuckerspace1.shape[0]):\n",
    "            for j in range(fuckerspace2.shape[0]):\n",
    "                v_i = fuckerspace1.iloc[i][['x', 'y', 'z']].to_numpy()\n",
    "                v_j = fuckerspace2.iloc[j][['x', 'y', 'z']].to_numpy()\n",
    "                result += np.dot(v_i, v_j)\n",
    "        return result\n",
    "                \n",
    "        "
   ]
  },
  {
   "cell_type": "code",
   "execution_count": 98,
   "id": "8c86a5bc",
   "metadata": {},
   "outputs": [
    {
     "name": "stdout",
     "output_type": "stream",
     "text": [
      "Initialized successfully. Use x.run(atom, atom, time) to get correlation.\n",
      "atom = 1 means Si. atom = 0 means O.\n",
      "Available time steps range from: 0 to 10398000, stepsize: 3000\n"
     ]
    }
   ],
   "source": [
    "test = correlate(timestep_tables)"
   ]
  },
  {
   "cell_type": "code",
   "execution_count": 99,
   "id": "67e7b410",
   "metadata": {},
   "outputs": [
    {
     "data": {
      "text/plain": [
       "3466.0"
      ]
     },
     "execution_count": 99,
     "metadata": {},
     "output_type": "execute_result"
    }
   ],
   "source": [
    "10398000/3000"
   ]
  },
  {
   "cell_type": "code",
   "execution_count": 103,
   "id": "505135a1",
   "metadata": {
    "collapsed": true
   },
   "outputs": [
    {
     "name": "stderr",
     "output_type": "stream",
     "text": [
      "Processing:   0%|                                                                   | 3/3466 [00:21<6:59:28,  7.27s/it]\n"
     ]
    },
    {
     "ename": "KeyboardInterrupt",
     "evalue": "",
     "output_type": "error",
     "traceback": [
      "\u001b[1;31m---------------------------------------------------------------------------\u001b[0m",
      "\u001b[1;31mKeyboardInterrupt\u001b[0m                         Traceback (most recent call last)",
      "Input \u001b[1;32mIn [103]\u001b[0m, in \u001b[0;36m<cell line: 4>\u001b[1;34m()\u001b[0m\n\u001b[0;32m      5\u001b[0m c1 \u001b[38;5;241m=\u001b[39m np\u001b[38;5;241m.\u001b[39mappend(c1,test\u001b[38;5;241m.\u001b[39mrun(\u001b[38;5;241m1\u001b[39m,\u001b[38;5;241m1\u001b[39m,i\u001b[38;5;241m*\u001b[39m\u001b[38;5;241m3000\u001b[39m))\n\u001b[0;32m      6\u001b[0m c2 \u001b[38;5;241m=\u001b[39m np\u001b[38;5;241m.\u001b[39mappend(c2,test\u001b[38;5;241m.\u001b[39mrun(\u001b[38;5;241m1\u001b[39m,\u001b[38;5;241m2\u001b[39m,i\u001b[38;5;241m*\u001b[39m\u001b[38;5;241m3000\u001b[39m))\n\u001b[1;32m----> 7\u001b[0m c3 \u001b[38;5;241m=\u001b[39m np\u001b[38;5;241m.\u001b[39mappend(c2,\u001b[43mtest\u001b[49m\u001b[38;5;241;43m.\u001b[39;49m\u001b[43mrun\u001b[49m\u001b[43m(\u001b[49m\u001b[38;5;241;43m2\u001b[39;49m\u001b[43m,\u001b[49m\u001b[38;5;241;43m2\u001b[39;49m\u001b[43m,\u001b[49m\u001b[43mi\u001b[49m\u001b[38;5;241;43m*\u001b[39;49m\u001b[38;5;241;43m3000\u001b[39;49m\u001b[43m)\u001b[49m)\n",
      "Input \u001b[1;32mIn [96]\u001b[0m, in \u001b[0;36mcorrelate.run\u001b[1;34m(self, fucker1, fucker2, time)\u001b[0m\n\u001b[0;32m     21\u001b[0m         v_i \u001b[38;5;241m=\u001b[39m fuckerspace1\u001b[38;5;241m.\u001b[39miloc[i][[\u001b[38;5;124m'\u001b[39m\u001b[38;5;124mx\u001b[39m\u001b[38;5;124m'\u001b[39m, \u001b[38;5;124m'\u001b[39m\u001b[38;5;124my\u001b[39m\u001b[38;5;124m'\u001b[39m, \u001b[38;5;124m'\u001b[39m\u001b[38;5;124mz\u001b[39m\u001b[38;5;124m'\u001b[39m]]\u001b[38;5;241m.\u001b[39mto_numpy()\n\u001b[0;32m     22\u001b[0m         v_j \u001b[38;5;241m=\u001b[39m fuckerspace2\u001b[38;5;241m.\u001b[39miloc[j][[\u001b[38;5;124m'\u001b[39m\u001b[38;5;124mx\u001b[39m\u001b[38;5;124m'\u001b[39m, \u001b[38;5;124m'\u001b[39m\u001b[38;5;124my\u001b[39m\u001b[38;5;124m'\u001b[39m, \u001b[38;5;124m'\u001b[39m\u001b[38;5;124mz\u001b[39m\u001b[38;5;124m'\u001b[39m]]\u001b[38;5;241m.\u001b[39mto_numpy()\n\u001b[1;32m---> 23\u001b[0m         result \u001b[38;5;241m+\u001b[39m\u001b[38;5;241m=\u001b[39m \u001b[43mnp\u001b[49m\u001b[38;5;241;43m.\u001b[39;49m\u001b[43mdot\u001b[49m\u001b[43m(\u001b[49m\u001b[43mv_i\u001b[49m\u001b[43m,\u001b[49m\u001b[43m \u001b[49m\u001b[43mv_j\u001b[49m\u001b[43m)\u001b[49m\n\u001b[0;32m     24\u001b[0m \u001b[38;5;28;01mreturn\u001b[39;00m result\n",
      "File \u001b[1;32m<__array_function__ internals>:5\u001b[0m, in \u001b[0;36mdot\u001b[1;34m(*args, **kwargs)\u001b[0m\n",
      "\u001b[1;31mKeyboardInterrupt\u001b[0m: "
     ]
    }
   ],
   "source": [
    "c1  = np.array([]) #11\n",
    "c2  = np.array([]) #12\n",
    "c3  = np.array([]) #22\n",
    "for i in tqdm(range(3466), desc='Processing'):\n",
    "    c1 = np.append(c1,test.run(1,1,i*3000))\n",
    "    c2 = np.append(c2,test.run(1,2,i*3000))\n",
    "    c3 = np.append(c2,test.run(2,2,i*3000))\n",
    "    "
   ]
  },
  {
   "cell_type": "code",
   "execution_count": null,
   "id": "03fc8392",
   "metadata": {},
   "outputs": [],
   "source": []
  }
 ],
 "metadata": {
  "kernelspec": {
   "display_name": "Python 3 (ipykernel)",
   "language": "python",
   "name": "python3"
  },
  "language_info": {
   "codemirror_mode": {
    "name": "ipython",
    "version": 3
   },
   "file_extension": ".py",
   "mimetype": "text/x-python",
   "name": "python",
   "nbconvert_exporter": "python",
   "pygments_lexer": "ipython3",
   "version": "3.9.12"
  }
 },
 "nbformat": 4,
 "nbformat_minor": 5
}
